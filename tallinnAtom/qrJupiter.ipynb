{
 "cells": [
  {
   "cell_type": "code",
   "execution_count": 1,
   "id": "5c8b2fc8",
   "metadata": {},
   "outputs": [
    {
     "data": {
      "image/png": "[encoded data removed]",
      "text/plain": [
       "<Figure size 640x480 with 1 Axes>"
      ]
     },
     "metadata": {},
     "output_type": "display_data"
    }
   ],
   "source": [
    "import qrcode\n",
    "from qrcode.constants import ERROR_CORRECT_L\n",
    "import matplotlib.pyplot as plt\n",
    "\n",
    "wifi_ssid = \"TallinnAtom\"\n",
    "wifi_password = \"12345678\"\n",
    "wifi_type = \"WPA\"\n",
    "\n",
    "wifi_string = f\"WIFI:T:{wifi_type};S:{wifi_ssid};P:{wifi_password};;\"\n",
    "\n",
    "qr = qrcode.QRCode(error_correction=ERROR_CORRECT_L)\n",
    "qr.add_data(wifi_string)\n",
    "qr.make(fit=True)\n",
    "img = qr.make_image(fill_color=\"black\", back_color=\"white\")\n",
    "\n",
    "plt.imshow(img, cmap='gray')\n",
    "plt.axis('off')\n",
    "plt.show()"
   ]
  }
 ],
 "metadata": {
  "kernelspec": {
   "display_name": "Python 3",
   "language": "python",
   "name": "python3"
  },
  "language_info": {
   "codemirror_mode": {
    "name": "ipython",
    "version": 3
   },
   "file_extension": ".py",
   "mimetype": "text/x-python",
   "name": "python",
   "nbconvert_exporter": "python",
   "pygments_lexer": "ipython3",
   "version": "3.13.7"
  }
 },
 "nbformat": 4,
 "nbformat_minor": 5
}
